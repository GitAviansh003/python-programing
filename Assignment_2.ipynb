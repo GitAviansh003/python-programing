{
 "cells": [
  {
   "cell_type": "code",
   "execution_count": 4,
   "metadata": {},
   "outputs": [],
   "source": [
    "#1.# wap to generate the following out put\n",
    "#input:hello hi abccccd\n",
    "#output:1h1e2llol 1h1i 1a1b4c1d\n",
    "    #for later"
   ]
  },
  {
   "cell_type": "code",
   "execution_count": 36,
   "metadata": {},
   "outputs": [
    {
     "data": {
      "text/plain": [
       "9"
      ]
     },
     "execution_count": 36,
     "metadata": {},
     "output_type": "execute_result"
    }
   ],
   "source": [
    "#2.#find  the second largest number \n",
    "input=set([12,3,4,5,6,7,8,9,9,9,4,5,6,7,12,12,6,7,12,12,6,5,5,4])\n",
    "b=sorted(input)[-2]\n",
    "b"
   ]
  },
  {
   "cell_type": "code",
   "execution_count": 6,
   "metadata": {},
   "outputs": [
    {
     "data": {
      "text/plain": [
       "['8', '2', '4', '6', '3', '7', '9', '1']"
      ]
     },
     "execution_count": 6,
     "metadata": {},
     "output_type": "execute_result"
    }
   ],
   "source": [
    "#3.#write the function which takes a list of number and arrange the same array so that even number come first and then odd number .like[8,3,2,4,6,7,9,1] \n",
    "#should be rearrange to :[8,2,4,6,3,7,9,1].please note the correct solution must be 0(n)using no extra space,\n",
    "#inplacelist modification and preserve the original sequence of number\n",
    "def sequence(list):  \n",
    "     even=[]\n",
    "     odd=[]\n",
    "     for i in list:\n",
    "        if int(i)%2==0:\n",
    "            even.append(i)\n",
    "        else:\n",
    "            odd.append(i)\n",
    "     return(even+odd)\n",
    "list=input(\"enter your number\").split() # type: ignore\n",
    "sequence(list)   \n",
    "    "
   ]
  },
  {
   "cell_type": "code",
   "execution_count": 50,
   "metadata": {},
   "outputs": [
    {
     "name": "stdout",
     "output_type": "stream",
     "text": [
      "{'h': 1, 'e': 1, 'l': 3, 'o': 2, ' ': 1, 'w': 1, 'r': 1, 'd': 1}\n"
     ]
    }
   ],
   "source": [
    "#4.#write a fuction which accept a string and return th frequency of each character in the string \n",
    "input='hello world'\n",
    "dic={}\n",
    "for i in input:\n",
    "    if i in dic:\n",
    "        dic[i]+=1\n",
    "    else:\n",
    "        dic[i]=1\n",
    "print(dic)"
   ]
  },
  {
   "cell_type": "code",
   "execution_count": 3,
   "metadata": {},
   "outputs": [
    {
     "name": "stdout",
     "output_type": "stream",
     "text": [
      "HH2elloowareyou13    !\n"
     ]
    }
   ],
   "source": [
    "#5#HH2ellowareyou123\n",
    "#conversion->find out >upper->even>lower>odd>space>special symbo>formatng\n",
    "ip='Hello 123 How are you!' \n",
    "upper=''\n",
    "even=''\n",
    "lower=''\n",
    "space=''\n",
    "odd=''\n",
    "special=''\n",
    "for i in ip:  \n",
    "    if i.isdigit():\n",
    "        if int(i)%2==0:\n",
    "            even+=i\n",
    "        else:\n",
    "            odd+=i\n",
    "    elif i.isupper():\n",
    "        upper+=i  \n",
    "    elif i.islower():\n",
    "        lower+=i\n",
    "    elif i.isspace():\n",
    "        space+=i\n",
    "    else:\n",
    "        special+=i\n",
    "print(f'{upper}{even}{lower}{odd}{space}{special}')    \n",
    "     \n",
    "        "
   ]
  },
  {
   "cell_type": "code",
   "execution_count": null,
   "metadata": {},
   "outputs": [],
   "source": []
  }
 ],
 "metadata": {
  "kernelspec": {
   "display_name": "Python 3",
   "language": "python",
   "name": "python3"
  },
  "language_info": {
   "codemirror_mode": {
    "name": "ipython",
    "version": 3
   },
   "file_extension": ".py",
   "mimetype": "text/x-python",
   "name": "python",
   "nbconvert_exporter": "python",
   "pygments_lexer": "ipython3",
   "version": "3.11.3"
  },
  "orig_nbformat": 4
 },
 "nbformat": 4,
 "nbformat_minor": 2
}
